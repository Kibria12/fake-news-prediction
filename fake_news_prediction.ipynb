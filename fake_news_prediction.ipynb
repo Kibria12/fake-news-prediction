{
  "nbformat": 4,
  "nbformat_minor": 0,
  "metadata": {
    "colab": {
      "name": "fake news prediction.ipynb",
      "provenance": [],
      "collapsed_sections": [],
      "authorship_tag": "ABX9TyMXvg6a+0i+omKref8ZtdpR",
      "include_colab_link": true
    },
    "kernelspec": {
      "name": "python3",
      "display_name": "Python 3"
    },
    "language_info": {
      "name": "python"
    }
  },
  "cells": [
    {
      "cell_type": "markdown",
      "metadata": {
        "id": "view-in-github",
        "colab_type": "text"
      },
      "source": [
        "<a href=\"https://colab.research.google.com/github/Kibria12/fake-news-prediction/blob/main/fake_news_prediction.ipynb\" target=\"_parent\"><img src=\"https://colab.research.google.com/assets/colab-badge.svg\" alt=\"Open In Colab\"/></a>"
      ]
    },
    {
      "cell_type": "code",
      "metadata": {
        "id": "OMZpGISjs7ig"
      },
      "source": [
        "import numpy as np\n",
        "import pandas as pd\n",
        "from nltk.stem.porter import PorterStemmer\n",
        "from sklearn.feature_extraction.text import TfidfVectorizer\n",
        "from sklearn.model_selection import train_test_split\n",
        "from sklearn.linear_model import LogisticRegression\n",
        "from sklearn.metrics import accuracy_score"
      ],
      "execution_count": null,
      "outputs": []
    },
    {
      "cell_type": "code",
      "metadata": {
        "id": "rFXi8JkTtjTi"
      },
      "source": [
        "news_dataset = pd.read_csv('/content/fake_or_real_news.csv')"
      ],
      "execution_count": null,
      "outputs": []
    },
    {
      "cell_type": "code",
      "metadata": {
        "colab": {
          "base_uri": "https://localhost:8080/"
        },
        "id": "NM_ONrAKucQS",
        "outputId": "8f218e74-1bdf-4044-c629-7439f4d814e6"
      },
      "source": [
        "news_dataset.shape"
      ],
      "execution_count": null,
      "outputs": [
        {
          "output_type": "execute_result",
          "data": {
            "text/plain": [
              "(6335, 4)"
            ]
          },
          "metadata": {
            "tags": []
          },
          "execution_count": 6
        }
      ]
    },
    {
      "cell_type": "code",
      "metadata": {
        "colab": {
          "base_uri": "https://localhost:8080/",
          "height": 195
        },
        "id": "c28AvJJMui_6",
        "outputId": "af810f7e-4497-469d-b5c3-5ca034c9ec49"
      },
      "source": [
        "news_dataset.head()"
      ],
      "execution_count": null,
      "outputs": [
        {
          "output_type": "execute_result",
          "data": {
            "text/html": [
              "<div>\n",
              "<style scoped>\n",
              "    .dataframe tbody tr th:only-of-type {\n",
              "        vertical-align: middle;\n",
              "    }\n",
              "\n",
              "    .dataframe tbody tr th {\n",
              "        vertical-align: top;\n",
              "    }\n",
              "\n",
              "    .dataframe thead th {\n",
              "        text-align: right;\n",
              "    }\n",
              "</style>\n",
              "<table border=\"1\" class=\"dataframe\">\n",
              "  <thead>\n",
              "    <tr style=\"text-align: right;\">\n",
              "      <th></th>\n",
              "      <th>Unnamed: 0</th>\n",
              "      <th>title</th>\n",
              "      <th>text</th>\n",
              "      <th>label</th>\n",
              "    </tr>\n",
              "  </thead>\n",
              "  <tbody>\n",
              "    <tr>\n",
              "      <th>0</th>\n",
              "      <td>8476</td>\n",
              "      <td>You Can Smell Hillary’s Fear</td>\n",
              "      <td>Daniel Greenfield, a Shillman Journalism Fello...</td>\n",
              "      <td>FAKE</td>\n",
              "    </tr>\n",
              "    <tr>\n",
              "      <th>1</th>\n",
              "      <td>10294</td>\n",
              "      <td>Watch The Exact Moment Paul Ryan Committed Pol...</td>\n",
              "      <td>Google Pinterest Digg Linkedin Reddit Stumbleu...</td>\n",
              "      <td>FAKE</td>\n",
              "    </tr>\n",
              "    <tr>\n",
              "      <th>2</th>\n",
              "      <td>3608</td>\n",
              "      <td>Kerry to go to Paris in gesture of sympathy</td>\n",
              "      <td>U.S. Secretary of State John F. Kerry said Mon...</td>\n",
              "      <td>REAL</td>\n",
              "    </tr>\n",
              "    <tr>\n",
              "      <th>3</th>\n",
              "      <td>10142</td>\n",
              "      <td>Bernie supporters on Twitter erupt in anger ag...</td>\n",
              "      <td>— Kaydee King (@KaydeeKing) November 9, 2016 T...</td>\n",
              "      <td>FAKE</td>\n",
              "    </tr>\n",
              "    <tr>\n",
              "      <th>4</th>\n",
              "      <td>875</td>\n",
              "      <td>The Battle of New York: Why This Primary Matters</td>\n",
              "      <td>It's primary day in New York and front-runners...</td>\n",
              "      <td>REAL</td>\n",
              "    </tr>\n",
              "  </tbody>\n",
              "</table>\n",
              "</div>"
            ],
            "text/plain": [
              "   Unnamed: 0  ... label\n",
              "0        8476  ...  FAKE\n",
              "1       10294  ...  FAKE\n",
              "2        3608  ...  REAL\n",
              "3       10142  ...  FAKE\n",
              "4         875  ...  REAL\n",
              "\n",
              "[5 rows x 4 columns]"
            ]
          },
          "metadata": {
            "tags": []
          },
          "execution_count": 7
        }
      ]
    },
    {
      "cell_type": "code",
      "metadata": {
        "colab": {
          "base_uri": "https://localhost:8080/"
        },
        "id": "JedDc3hVumIa",
        "outputId": "39a1db97-fea8-41cf-bdf9-fc16dd1dab7f"
      },
      "source": [
        "news_dataset.isnull().sum()"
      ],
      "execution_count": null,
      "outputs": [
        {
          "output_type": "execute_result",
          "data": {
            "text/plain": [
              "Unnamed: 0    0\n",
              "title         0\n",
              "text          0\n",
              "label         0\n",
              "dtype: int64"
            ]
          },
          "metadata": {
            "tags": []
          },
          "execution_count": 8
        }
      ]
    },
    {
      "cell_type": "code",
      "metadata": {
        "id": "GV0BrzrDupqR"
      },
      "source": [
        "news_dataset = news_dataset.fillna('')"
      ],
      "execution_count": null,
      "outputs": []
    },
    {
      "cell_type": "code",
      "metadata": {
        "id": "dPNYeR2futAx"
      },
      "source": [
        "news_dataset['content'] = news_dataset['title']+' '+news_dataset['title']"
      ],
      "execution_count": null,
      "outputs": []
    },
    {
      "cell_type": "code",
      "metadata": {
        "colab": {
          "base_uri": "https://localhost:8080/"
        },
        "id": "mi_9F4nhuwER",
        "outputId": "83d1f0ba-2b71-40b7-beae-7be670e787f5"
      },
      "source": [
        "print(news_dataset['content'])"
      ],
      "execution_count": null,
      "outputs": [
        {
          "output_type": "stream",
          "text": [
            "0       You Can Smell Hillary’s Fear You Can Smell Hil...\n",
            "1       Watch The Exact Moment Paul Ryan Committed Pol...\n",
            "2       Kerry to go to Paris in gesture of sympathy Ke...\n",
            "3       Bernie supporters on Twitter erupt in anger ag...\n",
            "4       The Battle of New York: Why This Primary Matte...\n",
            "                              ...                        \n",
            "6330    State Department says it can't find emails fro...\n",
            "6331    The ‘P’ in PBS Should Stand for ‘Plutocratic’ ...\n",
            "6332    Anti-Trump Protesters Are Tools of the Oligarc...\n",
            "6333    In Ethiopia, Obama seeks progress on peace, se...\n",
            "6334    Jeb Bush Is Suddenly Attacking Trump. Here's W...\n",
            "Name: content, Length: 6335, dtype: object\n"
          ],
          "name": "stdout"
        }
      ]
    },
    {
      "cell_type": "code",
      "metadata": {
        "id": "5IN8JZe4ux2Z"
      },
      "source": [
        "X = news_dataset.drop(columns='label', axis=1)\n",
        "Y = news_dataset['label']"
      ],
      "execution_count": null,
      "outputs": []
    },
    {
      "cell_type": "code",
      "metadata": {
        "colab": {
          "base_uri": "https://localhost:8080/"
        },
        "id": "fwOfstA3u3G5",
        "outputId": "9bea75e0-9138-4e9d-97bc-bd8d691c318a"
      },
      "source": [
        "print(X)\n",
        "print(Y)"
      ],
      "execution_count": null,
      "outputs": [
        {
          "output_type": "stream",
          "text": [
            "      Unnamed: 0  ...                                            content\n",
            "0           8476  ...  You Can Smell Hillary’s Fear You Can Smell Hil...\n",
            "1          10294  ...  Watch The Exact Moment Paul Ryan Committed Pol...\n",
            "2           3608  ...  Kerry to go to Paris in gesture of sympathy Ke...\n",
            "3          10142  ...  Bernie supporters on Twitter erupt in anger ag...\n",
            "4            875  ...  The Battle of New York: Why This Primary Matte...\n",
            "...          ...  ...                                                ...\n",
            "6330        4490  ...  State Department says it can't find emails fro...\n",
            "6331        8062  ...  The ‘P’ in PBS Should Stand for ‘Plutocratic’ ...\n",
            "6332        8622  ...  Anti-Trump Protesters Are Tools of the Oligarc...\n",
            "6333        4021  ...  In Ethiopia, Obama seeks progress on peace, se...\n",
            "6334        4330  ...  Jeb Bush Is Suddenly Attacking Trump. Here's W...\n",
            "\n",
            "[6335 rows x 4 columns]\n",
            "0       FAKE\n",
            "1       FAKE\n",
            "2       REAL\n",
            "3       FAKE\n",
            "4       REAL\n",
            "        ... \n",
            "6330    REAL\n",
            "6331    FAKE\n",
            "6332    FAKE\n",
            "6333    REAL\n",
            "6334    REAL\n",
            "Name: label, Length: 6335, dtype: object\n"
          ],
          "name": "stdout"
        }
      ]
    },
    {
      "cell_type": "code",
      "metadata": {
        "id": "w0t1gLspu7X6"
      },
      "source": [
        "port_stem = PorterStemmer()\n",
        "def stemming(content):\n",
        "    stemmed_content = re.sub('[^a-zA-Z]',' ',content)\n",
        "    stemmed_content = stemmed_content.lower()\n",
        "    stemmed_content = stemmed_content.split()\n",
        "    stemmed_content = [port_stem.stem(word) for word in stemmed_content if not word in stopwords.words('english')]\n",
        "    stemmed_content = ' '.join(stemmed_content)\n",
        "    return stemmed_content\n",
        "    news_dataset['content'] = news_dataset['content'].apply(stemming)"
      ],
      "execution_count": null,
      "outputs": []
    },
    {
      "cell_type": "code",
      "metadata": {
        "colab": {
          "base_uri": "https://localhost:8080/"
        },
        "id": "1gVxmEFhu-My",
        "outputId": "353305c0-00d0-45f7-f0c9-df234fc0134d"
      },
      "source": [
        " print(news_dataset['content'])"
      ],
      "execution_count": null,
      "outputs": [
        {
          "output_type": "stream",
          "text": [
            "0       You Can Smell Hillary’s Fear You Can Smell Hil...\n",
            "1       Watch The Exact Moment Paul Ryan Committed Pol...\n",
            "2       Kerry to go to Paris in gesture of sympathy Ke...\n",
            "3       Bernie supporters on Twitter erupt in anger ag...\n",
            "4       The Battle of New York: Why This Primary Matte...\n",
            "                              ...                        \n",
            "6330    State Department says it can't find emails fro...\n",
            "6331    The ‘P’ in PBS Should Stand for ‘Plutocratic’ ...\n",
            "6332    Anti-Trump Protesters Are Tools of the Oligarc...\n",
            "6333    In Ethiopia, Obama seeks progress on peace, se...\n",
            "6334    Jeb Bush Is Suddenly Attacking Trump. Here's W...\n",
            "Name: content, Length: 6335, dtype: object\n"
          ],
          "name": "stdout"
        }
      ]
    },
    {
      "cell_type": "code",
      "metadata": {
        "id": "gUNejS89vA0q"
      },
      "source": [
        "X = news_dataset['content'].values\n",
        "Y = news_dataset['label'].values"
      ],
      "execution_count": null,
      "outputs": []
    },
    {
      "cell_type": "code",
      "metadata": {
        "colab": {
          "base_uri": "https://localhost:8080/"
        },
        "id": "Qq93q3tAvETa",
        "outputId": "a011352c-1d21-4c13-aa89-a2a0f7cca6ac"
      },
      "source": [
        "print(X)"
      ],
      "execution_count": null,
      "outputs": [
        {
          "output_type": "stream",
          "text": [
            "['You Can Smell Hillary’s Fear You Can Smell Hillary’s Fear'\n",
            " 'Watch The Exact Moment Paul Ryan Committed Political Suicide At A Trump Rally (VIDEO) Watch The Exact Moment Paul Ryan Committed Political Suicide At A Trump Rally (VIDEO)'\n",
            " 'Kerry to go to Paris in gesture of sympathy Kerry to go to Paris in gesture of sympathy'\n",
            " ...\n",
            " 'Anti-Trump Protesters Are Tools of the Oligarchy     : Information Anti-Trump Protesters Are Tools of the Oligarchy     : Information'\n",
            " 'In Ethiopia, Obama seeks progress on peace, security in East Africa In Ethiopia, Obama seeks progress on peace, security in East Africa'\n",
            " \"Jeb Bush Is Suddenly Attacking Trump. Here's Why That Matters Jeb Bush Is Suddenly Attacking Trump. Here's Why That Matters\"]\n"
          ],
          "name": "stdout"
        }
      ]
    },
    {
      "cell_type": "code",
      "metadata": {
        "colab": {
          "base_uri": "https://localhost:8080/"
        },
        "id": "YHpKwX8-vJDJ",
        "outputId": "4ab339a1-35c0-447f-9174-4940e1102af5"
      },
      "source": [
        "print(Y)"
      ],
      "execution_count": null,
      "outputs": [
        {
          "output_type": "stream",
          "text": [
            "['FAKE' 'FAKE' 'REAL' ... 'FAKE' 'REAL' 'REAL']\n"
          ],
          "name": "stdout"
        }
      ]
    },
    {
      "cell_type": "code",
      "metadata": {
        "colab": {
          "base_uri": "https://localhost:8080/"
        },
        "id": "D0EJ_nrDvM2Z",
        "outputId": "534e16f4-cf1a-4bee-9d8d-3aab22695421"
      },
      "source": [
        "Y.shape"
      ],
      "execution_count": null,
      "outputs": [
        {
          "output_type": "execute_result",
          "data": {
            "text/plain": [
              "(6335,)"
            ]
          },
          "metadata": {
            "tags": []
          },
          "execution_count": 19
        }
      ]
    },
    {
      "cell_type": "code",
      "metadata": {
        "id": "GSa2WfiQvPop"
      },
      "source": [
        "vectorizer = TfidfVectorizer()\n",
        "vectorizer.fit(X)\n",
        "\n",
        "X = vectorizer.transform(X)"
      ],
      "execution_count": null,
      "outputs": []
    },
    {
      "cell_type": "code",
      "metadata": {
        "colab": {
          "base_uri": "https://localhost:8080/"
        },
        "id": "5sJiyuygvStC",
        "outputId": "36ad035d-445c-4eac-a599-2f2c35895757"
      },
      "source": [
        "print(X)"
      ],
      "execution_count": null,
      "outputs": [
        {
          "output_type": "stream",
          "text": [
            "  (0, 10025)\t0.3697021492483388\n",
            "  (0, 8298)\t0.6428362622653288\n",
            "  (0, 4285)\t0.25932346019107133\n",
            "  (0, 3468)\t0.496138614294019\n",
            "  (0, 1484)\t0.3697021492483388\n",
            "  (1, 9771)\t0.2659708894219386\n",
            "  (1, 9621)\t0.20533429908741216\n",
            "  (1, 9288)\t0.12733666204154537\n",
            "  (1, 9001)\t0.10642651054603143\n",
            "  (1, 8729)\t0.3353619548852212\n",
            "  (1, 7780)\t0.27336834606331245\n",
            "  (1, 7210)\t0.2886914409638959\n",
            "  (1, 6772)\t0.25269859002770484\n",
            "  (1, 6536)\t0.25081525496784146\n",
            "  (1, 5813)\t0.3166556995288715\n",
            "  (1, 3266)\t0.4180253197427375\n",
            "  (1, 1926)\t0.38604676499215423\n",
            "  (1, 770)\t0.1954545168939325\n",
            "  (2, 9098)\t0.2739800153499639\n",
            "  (2, 8843)\t0.49398475717214113\n",
            "  (2, 6486)\t0.3475966924968782\n",
            "  (2, 6225)\t0.16125634950154008\n",
            "  (2, 5002)\t0.38571138240303604\n",
            "  (2, 4549)\t0.1559235749972116\n",
            "  (2, 3955)\t0.34202422122927323\n",
            "  :\t:\n",
            "  (6332, 6259)\t0.4664328071894896\n",
            "  (6332, 6225)\t0.16551737349827622\n",
            "  (6332, 4624)\t0.37413697990466194\n",
            "  (6332, 677)\t0.25650820420765597\n",
            "  (6332, 598)\t0.33057775047306454\n",
            "  (6333, 7955)\t0.33787437103176404\n",
            "  (6333, 7950)\t0.29457918133233185\n",
            "  (6333, 6997)\t0.38181323444351317\n",
            "  (6333, 6556)\t0.3485747674030702\n",
            "  (6333, 6268)\t0.1510546948799978\n",
            "  (6333, 6189)\t0.18301092051011128\n",
            "  (6333, 4549)\t0.26201757914364915\n",
            "  (6333, 3220)\t0.39055609487232223\n",
            "  (6333, 2973)\t0.3447364817179356\n",
            "  (6333, 391)\t0.36801802420318547\n",
            "  (6334, 9866)\t0.23448880922171753\n",
            "  (6334, 9288)\t0.15085773935424227\n",
            "  (6334, 8998)\t0.2492940800468627\n",
            "  (6334, 8715)\t0.45735565325824085\n",
            "  (6334, 5588)\t0.38888311733299014\n",
            "  (6334, 4855)\t0.3131121272639258\n",
            "  (6334, 4794)\t0.17811351210655707\n",
            "  (6334, 4251)\t0.30581367312011204\n",
            "  (6334, 1427)\t0.2950010687745619\n",
            "  (6334, 781)\t0.4351940593417819\n"
          ],
          "name": "stdout"
        }
      ]
    },
    {
      "cell_type": "code",
      "metadata": {
        "id": "MDIOQESfvUJJ"
      },
      "source": [
        "X_train, X_test, Y_train, Y_test = train_test_split(X, Y, test_size = 0.2, stratify=Y, random_state=2)"
      ],
      "execution_count": null,
      "outputs": []
    },
    {
      "cell_type": "code",
      "metadata": {
        "id": "VABufpr-vYlC"
      },
      "source": [
        "model = LogisticRegression()"
      ],
      "execution_count": null,
      "outputs": []
    },
    {
      "cell_type": "code",
      "metadata": {
        "colab": {
          "base_uri": "https://localhost:8080/"
        },
        "id": "swYSOD_jvbSJ",
        "outputId": "24e84621-4679-4fd2-f9e3-db7e24a4a170"
      },
      "source": [
        "model.fit(X_train, Y_train)"
      ],
      "execution_count": null,
      "outputs": [
        {
          "output_type": "execute_result",
          "data": {
            "text/plain": [
              "LogisticRegression(C=1.0, class_weight=None, dual=False, fit_intercept=True,\n",
              "                   intercept_scaling=1, l1_ratio=None, max_iter=100,\n",
              "                   multi_class='auto', n_jobs=None, penalty='l2',\n",
              "                   random_state=None, solver='lbfgs', tol=0.0001, verbose=0,\n",
              "                   warm_start=False)"
            ]
          },
          "metadata": {
            "tags": []
          },
          "execution_count": 24
        }
      ]
    },
    {
      "cell_type": "code",
      "metadata": {
        "id": "ih6DxUmyvdG7"
      },
      "source": [
        "X_train_prediction = model.predict(X_train)\n",
        "training_data_accuracy = accuracy_score(X_train_prediction, Y_train)"
      ],
      "execution_count": null,
      "outputs": []
    },
    {
      "cell_type": "code",
      "metadata": {
        "colab": {
          "base_uri": "https://localhost:8080/"
        },
        "id": "szFhENDtvgEK",
        "outputId": "5b3af999-e198-42eb-eec1-c51cca63bfa6"
      },
      "source": [
        "print('Accuracy score of the training data : ', training_data_accuracy)"
      ],
      "execution_count": null,
      "outputs": [
        {
          "output_type": "stream",
          "text": [
            "Accuracy score of the training data :  0.9214680347277032\n"
          ],
          "name": "stdout"
        }
      ]
    },
    {
      "cell_type": "code",
      "metadata": {
        "id": "ERRJVuINvjNK"
      },
      "source": [
        "X_test_prediction = model.predict(X_test)\n",
        "test_data_accuracy = accuracy_score(X_test_prediction, Y_test)"
      ],
      "execution_count": null,
      "outputs": []
    },
    {
      "cell_type": "code",
      "metadata": {
        "colab": {
          "base_uri": "https://localhost:8080/"
        },
        "id": "wXxZmXDcvoay",
        "outputId": "d268d792-c2cf-4db8-fe91-0a1a8816ccfd"
      },
      "source": [
        "print('Accuracy score of the test data : ', test_data_accuracy)"
      ],
      "execution_count": null,
      "outputs": [
        {
          "output_type": "stream",
          "text": [
            "Accuracy score of the test data :  0.8279400157853196\n"
          ],
          "name": "stdout"
        }
      ]
    },
    {
      "cell_type": "code",
      "metadata": {
        "colab": {
          "base_uri": "https://localhost:8080/"
        },
        "id": "v0Pw0-GMvqLa",
        "outputId": "f2be18e5-bdf2-4baa-8d2b-171d41e6df21"
      },
      "source": [
        "X_new = X_test[3]\n",
        "\n",
        "prediction = model.predict(X_new)\n",
        "print(prediction)\n",
        "\n",
        "if (prediction[0]==0):\n",
        "  print('The news is Real')\n",
        "else:\n",
        "  print('The news is Fake')"
      ],
      "execution_count": null,
      "outputs": [
        {
          "output_type": "stream",
          "text": [
            "['FAKE']\n",
            "The news is Fake\n"
          ],
          "name": "stdout"
        }
      ]
    },
    {
      "cell_type": "code",
      "metadata": {
        "colab": {
          "base_uri": "https://localhost:8080/"
        },
        "id": "6pYu6qxYvt2i",
        "outputId": "e49cd692-e4ce-45c1-e964-6b5dd9cdc99c"
      },
      "source": [
        "print(Y_test[3])"
      ],
      "execution_count": null,
      "outputs": [
        {
          "output_type": "stream",
          "text": [
            "FAKE\n"
          ],
          "name": "stdout"
        }
      ]
    }
  ]
}